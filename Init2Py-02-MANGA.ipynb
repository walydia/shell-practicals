{
 "cells": [
  {
   "cell_type": "markdown",
   "id": "7a73d312",
   "metadata": {},
   "source": [
    "## MAMADOU WALY DIA MANGA"
   ]
  },
  {
   "cell_type": "markdown",
   "id": "13691d30",
   "metadata": {},
   "source": [
    "## InPy-02 - Functions & Recursions"
   ]
  },
  {
   "cell_type": "markdown",
   "id": "5dcf7d8f",
   "metadata": {},
   "source": [
    "1. Write a python script that asks the user for the values of x and y and uses these inputs to compute the numerical value of the expression"
   ]
  },
  {
   "cell_type": "code",
   "execution_count": 1,
   "id": "e0e58caa",
   "metadata": {},
   "outputs": [
    {
     "name": "stdout",
     "output_type": "stream",
     "text": [
      "Enter x = 3\n",
      "Enter y = 5\n",
      "The numerical value is:  -29.513993511923427\n"
     ]
    }
   ],
   "source": [
    "import math\n",
    "def fstring():\n",
    "    x=int(input(\"Enter x = \"))\n",
    "    y=int(input(\"Enter y = \"))\n",
    "    f= math.sqrt(x**(2+y))/(1/x + 2*math.sin(y))\n",
    "    print(\"The numerical value is: \", f)\n",
    "    return \n",
    "fstring()"
   ]
  },
  {
   "cell_type": "markdown",
   "id": "4fac2c0f",
   "metadata": {},
   "source": [
    "2. Write a function that given two integers b and n (n is positive), calculates b n without using\n",
    "python’s power operator. Name this function ownpowerfn.py."
   ]
  },
  {
   "cell_type": "code",
   "execution_count": 4,
   "id": "f2bd206c",
   "metadata": {},
   "outputs": [
    {
     "name": "stdout",
     "output_type": "stream",
     "text": [
      "Please enter b = 3\n",
      "Please enter a positive value n  = 3\n",
      "The value of  3 power 3 is  27\n"
     ]
    }
   ],
   "source": [
    "def ownpowerfn():\n",
    "    b=int(input(\"Please enter b = \"))\n",
    "    n=int(input(\"Please enter a positive value n  = \"))\n",
    "    if (n>0):\n",
    "        i=1\n",
    "        g=b\n",
    "        while (i<n):\n",
    "            g*=b\n",
    "            i+=1\n",
    "        print(\"The value of \", b,\"power\",n, \"is \", g) \n",
    "    else:    \n",
    "        return \n",
    "ownpowerfn()"
   ]
  },
  {
   "cell_type": "markdown",
   "id": "6bc6a947",
   "metadata": {},
   "source": [
    "3. Write functions that do the following:"
   ]
  },
  {
   "cell_type": "markdown",
   "id": "e5772971",
   "metadata": {},
   "source": [
    "a) Takes two arguments, and computes their arithmetic and geometric means. Name\n",
    "these functions arithmetic_mean and geometric_mean respectively."
   ]
  },
  {
   "cell_type": "code",
   "execution_count": 6,
   "id": "e95f0a38",
   "metadata": {},
   "outputs": [
    {
     "name": "stdout",
     "output_type": "stream",
     "text": [
      "The arithmetic mean is  4.5\n"
     ]
    }
   ],
   "source": [
    "def arithmetic_mean(x, y):\n",
    "    m=(x+y)/2\n",
    "    print(\"The arithmetic mean is \", m)\n",
    "    return\n",
    "arithmetic_mean(4,5)"
   ]
  },
  {
   "cell_type": "code",
   "execution_count": 7,
   "id": "1b2bce24",
   "metadata": {},
   "outputs": [
    {
     "name": "stdout",
     "output_type": "stream",
     "text": [
      "The geometric mean is  4.47213595499958\n"
     ]
    }
   ],
   "source": [
    "def geometric_mean(x, y):\n",
    "    g=(x*y)**(1/2)\n",
    "    print(\"The geometric mean is \", g)\n",
    "    return\n",
    "geometric_mean(4,5)"
   ]
  },
  {
   "cell_type": "markdown",
   "id": "7e5c6925",
   "metadata": {},
   "source": [
    "b) Converts degree Celsius to Fahrenheit and vice versa. Name these two functions\n",
    "celcius_to_fahrenheit and fahrenheit_to_celcius respectively."
   ]
  },
  {
   "cell_type": "code",
   "execution_count": 9,
   "id": "cb0c157e",
   "metadata": {},
   "outputs": [
    {
     "name": "stdout",
     "output_type": "stream",
     "text": [
      "20 Celsius equal to  68.0 Fahrenheit\n"
     ]
    }
   ],
   "source": [
    "def celsius_to_fahrenheit(x):\n",
    "    y=(9/5)*x + 32\n",
    "    print(x, \"Celsius equal to \", y, \"Fahrenheit\")\n",
    "    return\n",
    "celsius_to_fahrenheit(20)"
   ]
  },
  {
   "cell_type": "code",
   "execution_count": 11,
   "id": "f87a9eb8",
   "metadata": {},
   "outputs": [
    {
     "name": "stdout",
     "output_type": "stream",
     "text": [
      "68 Fahrenheit equal to  20.0 Celsius\n"
     ]
    }
   ],
   "source": [
    "def fahrenheit_to_celsius(x):\n",
    "    y=(5/9)*(x-32)\n",
    "    print(x, \"Fahrenheit equal to \", y, \"Celsius\")\n",
    "    return\n",
    "fahrenheit_to_celsius(68)"
   ]
  },
  {
   "cell_type": "markdown",
   "id": "cdcfcd78",
   "metadata": {},
   "source": [
    "c) Converts angle in degrees to radians and vice versa. Name these two functions\n",
    "degrees_to_radians and radians_to_degrees respectively."
   ]
  },
  {
   "cell_type": "code",
   "execution_count": 12,
   "id": "27c23e43",
   "metadata": {},
   "outputs": [
    {
     "name": "stdout",
     "output_type": "stream",
     "text": [
      "220 degrees equal to  3.839724354387525 radians\n"
     ]
    }
   ],
   "source": [
    "import math\n",
    "def degrees_to_radians(x):\n",
    "    y=(x*math.pi)/180\n",
    "    print(x, \"degrees equal to \", y, \"radians\")\n",
    "    return\n",
    "degrees_to_radians(220)"
   ]
  },
  {
   "cell_type": "code",
   "execution_count": 16,
   "id": "e3a8e5ea",
   "metadata": {},
   "outputs": [
    {
     "name": "stdout",
     "output_type": "stream",
     "text": [
      "3.839724354387525 radians equal to  220.0 degrees\n"
     ]
    }
   ],
   "source": [
    "import math\n",
    "def radians_to_degrees(x):\n",
    "    y=(180*x)/math.pi\n",
    "    print(x, \"radians equal to \", y, \"degrees\")\n",
    "    return\n",
    "radians_to_degrees(3.839724354387525)"
   ]
  },
  {
   "cell_type": "markdown",
   "id": "70436949",
   "metadata": {},
   "source": [
    "d) Computes the circumference and the area of a circle given the radius."
   ]
  },
  {
   "cell_type": "code",
   "execution_count": 22,
   "id": "e370c463",
   "metadata": {},
   "outputs": [
    {
     "name": "stdout",
     "output_type": "stream",
     "text": [
      "The circumference of a circle of radius r = 4 is p = 25.132741228718345\n"
     ]
    }
   ],
   "source": [
    "import math\n",
    "def circumference(r):\n",
    "    p=2*math.pi*r\n",
    "    print(\"The circumference of a circle of radius r =\", r, \"is p =\", p)\n",
    "    return\n",
    "circumference(4)"
   ]
  },
  {
   "cell_type": "code",
   "execution_count": 23,
   "id": "ab9c23b8",
   "metadata": {},
   "outputs": [
    {
     "name": "stdout",
     "output_type": "stream",
     "text": [
      "The area of a circle of radius r = 4 is A = 50.26548245743669\n"
     ]
    }
   ],
   "source": [
    "import math \n",
    "def area(r):\n",
    "    A=math.pi*r**2\n",
    "    print(\"The area of a circle of radius r =\", r, \"is A =\", A)\n",
    "    return \n",
    "area(4)"
   ]
  },
  {
   "cell_type": "markdown",
   "id": "6490b680",
   "metadata": {},
   "source": [
    "4. Write functions that do the following:"
   ]
  },
  {
   "cell_type": "markdown",
   "id": "f929895d",
   "metadata": {},
   "source": [
    "a) Given two numbers, compute their average and geometrical mean and prints them.\n",
    "Now write a program that performs this process 10 times, taking as input the means\n",
    "computed in the previous step. Name this function avggeom."
   ]
  },
  {
   "cell_type": "code",
   "execution_count": 25,
   "id": "939e186d",
   "metadata": {},
   "outputs": [
    {
     "name": "stdout",
     "output_type": "stream",
     "text": [
      "The average mean is  5.5\n",
      "The geometrical mean is  5.291502622129181\n"
     ]
    }
   ],
   "source": [
    "def av_geo(x, y):\n",
    "    m=(x+y)/2\n",
    "    print(\"The average mean is \", m)\n",
    "    g=(x*y)**(1/2)\n",
    "    print(\"The geometrical mean is \", g)\n",
    "    return\n",
    "av_geo(4,7)"
   ]
  },
  {
   "cell_type": "code",
   "execution_count": 26,
   "id": "a1eadabd",
   "metadata": {},
   "outputs": [
    {
     "name": "stdout",
     "output_type": "stream",
     "text": [
      "enter x : 3\n",
      "enter y : 4\n",
      "3.5 3.4641016151377544\n",
      "3.482050807568877 3.482004545227094\n",
      "3.4820276763979856 3.482027676321155\n",
      "3.4820276763595706 3.48202767635957\n",
      "3.4820276763595706 3.48202767635957\n",
      "3.4820276763595706 3.48202767635957\n",
      "3.4820276763595706 3.48202767635957\n",
      "3.4820276763595706 3.48202767635957\n",
      "3.4820276763595706 3.48202767635957\n",
      "3.4820276763595706 3.48202767635957\n"
     ]
    }
   ],
   "source": [
    "x=float(input(\"enter x : \"))\n",
    "y=float(input(\"enter y : \"))\n",
    "def average(x, y):\n",
    "    a=(x+y)/2\n",
    "    return a\n",
    "def geo_mean(x,y):\n",
    "    g=(x*y)**(1/2)\n",
    "    return g\n",
    "def avggeom(x, y):\n",
    "    print(average(x,y), geo_mean(x,y))\n",
    "    return average(x,y), geo_mean(x,y)\n",
    "n=(x,y)\n",
    "for i in range(0, 10):\n",
    "    t=n\n",
    "    n=avggeom(t[0],t[1])\n"
   ]
  },
  {
   "cell_type": "markdown",
   "id": "64d6386a",
   "metadata": {},
   "source": [
    "b) Write a function that computes the distance between two points in the plane. Use\n",
    "it in another program that computes the perimeter and the area of a triangle, given\n",
    "three points in the plane. Name this function distancefn."
   ]
  },
  {
   "cell_type": "code",
   "execution_count": 27,
   "id": "d28090f7",
   "metadata": {},
   "outputs": [
    {
     "name": "stdout",
     "output_type": "stream",
     "text": [
      "The distance between ( 2 , -1 ) and ( 4 , 5 ) is  6.324555320336759\n"
     ]
    }
   ],
   "source": [
    "import math\n",
    "def distance(x1,x2,y1,y2):\n",
    "    d=math.sqrt((x2-x1)**2+(y2-y1)**2)\n",
    "    print(\"The distance between (\",x1, \",\", y1, \") and (\",x2, \",\", y2, \") is \", d)\n",
    "    return\n",
    "distance(2,4,-1,5)"
   ]
  },
  {
   "cell_type": "code",
   "execution_count": 28,
   "id": "d2d8446c",
   "metadata": {},
   "outputs": [
    {
     "name": "stdout",
     "output_type": "stream",
     "text": [
      "The perimeter of the triangle is  14.05321222141841\n",
      "The area of the triangle is  7.000000000000001\n"
     ]
    }
   ],
   "source": [
    "import math\n",
    "def distance(x1,x2,y1,y2):\n",
    "    d=math.sqrt((x2-x1)**2+(y2-y1)**2)\n",
    "    return d\n",
    "def distancefn(x1,x2,x3,y1,y2,y3):\n",
    "    p=distance(x1,x2,y1,y2) + distance(x2,x3,y2,y3) + distance(x1,x3,y1,y3)\n",
    "    A=math.sqrt((p/2)*(p/2 -distance(x1,x2,y1,y2))*(p/2 -distance(x2,x3,y2,y3))*(p/2 - distance(x1,x3,y1,y3)))\n",
    "    print(\"The perimeter of the triangle is \", p)\n",
    "    print(\"The area of the triangle is \", A)\n",
    "    return \n",
    "distancefn(3,1,0,-2,4,0)"
   ]
  },
  {
   "cell_type": "markdown",
   "id": "035ebaa4",
   "metadata": {},
   "source": [
    "5. Write a program that offers three options to the user:\n",
    " 1. Evaluation of factorial\n",
    " 2. Evaluation of a second degree equation\n",
    " 3. Exit\n",
    " \n",
    "The user selects one of the options and then the program requests the data needed and calls the corresponding function to produce a result. The program then repeats the process until the user says he wants to exit. Name this function fact2nddeg"
   ]
  },
  {
   "cell_type": "code",
   "execution_count": 29,
   "id": "941d2a23",
   "metadata": {},
   "outputs": [
    {
     "name": "stdout",
     "output_type": "stream",
     "text": [
      "Please enter A if you want Evaluation of factorial or B for Evaluation of Second degree equation or C for quit : A\n",
      "Please enter the value n which you want evaluate its factorial : 3\n",
      "The factorial of  3 is 6\n",
      "Please enter A if you want Evaluation of factorial or B for Evaluation of Second degree equation or C for quit : B\n",
      "Please enter the value of a as ax^2+bx+c=0 : 2\n",
      "Please enter the value of b as ax^2+bx+c=0 : 1\n",
      "Please enter the value of c as ax^2+bx+c=0 : 3\n",
      "The solution is x_1 =  -0.25  -j 1.1989578808281798  and x_2 =  -0.25  +j 1.1989578808281798 , where j^2=-1.\n",
      "Please enter A if you want Evaluation of factorial or B for Evaluation of Second degree equation or C for quit : C\n",
      "Bye Bye!\n"
     ]
    }
   ],
   "source": [
    "import math\n",
    "def factorial(n):\n",
    "    if n == 0:\n",
    "        return 1\n",
    "    else:\n",
    "        return n * factorial(n-1)\n",
    "def seconddeg(a,b,c):\n",
    "    delta=b**2-4*a*c\n",
    "    if delta==0:\n",
    "        return print(\"The solution is x_0 = \", -b/(2*a))\n",
    "    elif delta > 0:\n",
    "        return print(\"The solution is x_1 = \", (-b-math.sqrt(delta))/(2*a), \"and x_2 = \", (-b+math.sqrt(delta))/(2*a) )\n",
    "    else:\n",
    "        return print(\"The solution is x_1 = \", -b/(2*a), \" -j\",(math.sqrt(-delta))/(2*a),\" and x_2 = \", -b/(2*a), \" +j\",(math.sqrt(-delta))/(2*a),\", where j^2=-1.\")  \n",
    "def fact2nddeg():\n",
    "    while True:\n",
    "        y=input(\"Please enter A if you want Evaluation of factorial or B for Evaluation of Second degree equation or C for quit : \")\n",
    "        if (y==\"A\"):\n",
    "            n=int(input(\"Please enter the value n which you want evaluate its factorial : \"))\n",
    "            print(\"The factorial of \", n, \"is\", factorial(n))\n",
    "        elif (y==\"B\"):\n",
    "            a=float(input(\"Please enter the value of a as ax^2+bx+c=0 : \"))\n",
    "            b=float(input(\"Please enter the value of b as ax^2+bx+c=0 : \"))\n",
    "            c=float(input(\"Please enter the value of c as ax^2+bx+c=0 : \"))\n",
    "            seconddeg(a,b,c)\n",
    "        else:\n",
    "            print(\"Bye Bye!\")\n",
    "            break\n",
    "fact2nddeg()        "
   ]
  },
  {
   "cell_type": "markdown",
   "id": "75bd5b22",
   "metadata": {},
   "source": [
    "6. For a fixed real number x and a natural number n , we can define recursively x^n using the relations: x^0 = 1and x^n+1 = x.x^n ."
   ]
  },
  {
   "cell_type": "code",
   "execution_count": 30,
   "id": "fefe7408",
   "metadata": {},
   "outputs": [
    {
     "data": {
      "text/plain": [
       "-125"
      ]
     },
     "execution_count": 30,
     "metadata": {},
     "output_type": "execute_result"
    }
   ],
   "source": [
    "def power(x, n):\n",
    "    i=1\n",
    "    if (n==0):\n",
    "        return 1\n",
    "    if (n>0):\n",
    "        for j in range(abs(n)):\n",
    "            i=i*x\n",
    "        return i\n",
    "    else:\n",
    "        return 1/i\n",
    "power(-5,3)    \n",
    "    "
   ]
  },
  {
   "cell_type": "markdown",
   "id": "180ccac8",
   "metadata": {},
   "source": [
    "7. Write code that implements the Fibonacci sequence. Test your program at 100."
   ]
  },
  {
   "cell_type": "code",
   "execution_count": 33,
   "id": "17512ef4",
   "metadata": {},
   "outputs": [
    {
     "name": "stdout",
     "output_type": "stream",
     "text": [
      "Please enter the number of terms : 15\n",
      "The Fibonacci sequence upto 15 is :\n",
      "0\n",
      "1\n",
      "1\n",
      "2\n",
      "3\n",
      "5\n",
      "8\n",
      "13\n",
      "21\n",
      "34\n",
      "55\n",
      "89\n",
      "144\n",
      "233\n",
      "377\n"
     ]
    }
   ],
   "source": [
    "def Fib():\n",
    "    n= int(input(\"Please enter the number of terms : \"))\n",
    "    n1, n2 = 0, 1\n",
    "    i = 0 \n",
    "    if n <= 0:\n",
    "        print(\"Please enter a positive integer\")\n",
    "    elif n == 1:\n",
    "        print(\"The Fibonacci sequence upto\", n, \"is :\")\n",
    "        print(n1)\n",
    "    else:\n",
    "        print(\"The Fibonacci sequence upto\", n, \"is :\")\n",
    "        while i < n:\n",
    "            print(n1)\n",
    "            nth = n1 + n2\n",
    "            n1 = n2\n",
    "            n2 = nth\n",
    "            i += 1\n",
    "        return\n",
    "Fib()    "
   ]
  },
  {
   "cell_type": "code",
   "execution_count": null,
   "id": "d0a63468",
   "metadata": {},
   "outputs": [],
   "source": []
  }
 ],
 "metadata": {
  "kernelspec": {
   "display_name": "Python 3 (ipykernel)",
   "language": "python",
   "name": "python3"
  },
  "language_info": {
   "codemirror_mode": {
    "name": "ipython",
    "version": 3
   },
   "file_extension": ".py",
   "mimetype": "text/x-python",
   "name": "python",
   "nbconvert_exporter": "python",
   "pygments_lexer": "ipython3",
   "version": "3.9.5"
  }
 },
 "nbformat": 4,
 "nbformat_minor": 5
}
