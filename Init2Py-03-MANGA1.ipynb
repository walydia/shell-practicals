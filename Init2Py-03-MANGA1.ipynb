{
 "cells": [
  {
   "cell_type": "markdown",
   "id": "2a667cb3",
   "metadata": {},
   "source": [
    "# Mamadou Waly Dia MANGA"
   ]
  },
  {
   "cell_type": "markdown",
   "id": "bcfa4642",
   "metadata": {},
   "source": [
    "## Init2Py-03 – Functions, conditionals, loops and strings."
   ]
  },
  {
   "cell_type": "markdown",
   "id": "ccf4ff74",
   "metadata": {},
   "source": [
    "### 1 Strings"
   ]
  },
  {
   "cell_type": "markdown",
   "id": "0e876ef8",
   "metadata": {},
   "source": [
    " 1. Write a function that takes a string as an argument and displays the letters backward, one per line."
   ]
  },
  {
   "cell_type": "code",
   "execution_count": 2,
   "id": "c696faf4",
   "metadata": {},
   "outputs": [
    {
     "name": "stdout",
     "output_type": "stream",
     "text": [
      "Please enter a string : Mamadou\n",
      "u\n",
      "o\n",
      "d\n",
      "a\n",
      "m\n",
      "a\n",
      "M\n"
     ]
    }
   ],
   "source": [
    "ch=str(input(\"Please enter a string : \"))\n",
    "def backward_letters(s):\n",
    "    i= len(ch) - 1\n",
    "    while i >= 0:\n",
    "        l = ch[i]\n",
    "        print(l)\n",
    "        i = i - 1\n",
    "backward_letters(ch)   "
   ]
  },
  {
   "cell_type": "markdown",
   "id": "1b063147",
   "metadata": {},
   "source": [
    "2. a) Design, implement and test a program M which, given two strings in increasing alphabetical order merges them into a single string in increasing alphabetical order. For example M(”bd”, ”abcf ”) = ”abbcdf ”."
   ]
  },
  {
   "cell_type": "code",
   "execution_count": 3,
   "id": "bf509595",
   "metadata": {},
   "outputs": [
    {
     "name": "stdout",
     "output_type": "stream",
     "text": [
      "Please enter the First string : bd\n",
      "Please enter the second string : abcf\n"
     ]
    },
    {
     "data": {
      "text/plain": [
       "'abbcdf'"
      ]
     },
     "execution_count": 3,
     "metadata": {},
     "output_type": "execute_result"
    }
   ],
   "source": [
    "ch1=str(input(\"Please enter the First string : \"))\n",
    "ch2=str(input(\"Please enter the second string : \"))\n",
    "def M(ch1, ch2):\n",
    "    l=ch1+ch2\n",
    "    lp=list(l)\n",
    "    lp.sort()\n",
    "    ch=\"\"\n",
    "    for i in range(0, len(l)):\n",
    "        ch=ch+str(lp[i])\n",
    "    return ch\n",
    "M(ch1, ch2)    "
   ]
  },
  {
   "cell_type": "markdown",
   "id": "93cccd6e",
   "metadata": {},
   "source": [
    "b) Ensure that M works even if the two strings contain repetitions. For example M (”bdd”, ”abccd”) = ”abbccddd”."
   ]
  },
  {
   "cell_type": "code",
   "execution_count": 4,
   "id": "d702b671",
   "metadata": {},
   "outputs": [
    {
     "name": "stdout",
     "output_type": "stream",
     "text": [
      "Please enter the First string  : bdd\n",
      "Please enter the second string  : abccd\n"
     ]
    },
    {
     "data": {
      "text/plain": [
       "'abbccddd'"
      ]
     },
     "execution_count": 4,
     "metadata": {},
     "output_type": "execute_result"
    }
   ],
   "source": [
    "ch1=str(input(\"Please enter the First string  : \"))\n",
    "ch2=str(input(\"Please enter the second string  : \"))\n",
    "M(ch1,ch2)"
   ]
  },
  {
   "cell_type": "markdown",
   "id": "68636456",
   "metadata": {},
   "source": [
    "c) Use M to design, implement and test a function S to sort into alphabetical order a string,\n",
    "perhaps with repetitions. For example S(”dcfabd”) = ”abcddf”"
   ]
  },
  {
   "cell_type": "code",
   "execution_count": 5,
   "id": "7ecb819c",
   "metadata": {},
   "outputs": [
    {
     "name": "stdout",
     "output_type": "stream",
     "text": [
      "Please enter the string : dcfabd\n"
     ]
    },
    {
     "data": {
      "text/plain": [
       "'abcddf'"
      ]
     },
     "execution_count": 5,
     "metadata": {},
     "output_type": "execute_result"
    }
   ],
   "source": [
    "ch=str(input(\"Please enter the string : \"))\n",
    "def M(ch1, ch2):\n",
    "    l=ch1+ch2\n",
    "    lp=list(l)\n",
    "    lp.sort()\n",
    "    ch=\"\"\n",
    "    for i in range(0, len(l)):\n",
    "        ch=ch+str(lp[i])\n",
    "    return ch\n",
    "def S(ch):\n",
    "    return M(ch, \"\")\n",
    "S(ch)"
   ]
  },
  {
   "cell_type": "markdown",
   "id": "e9640849",
   "metadata": {},
   "source": [
    "### 2 Searching"
   ]
  },
  {
   "cell_type": "markdown",
   "id": "69228b84",
   "metadata": {},
   "source": [
    "1. Write a function name it find that takes two arguments, a word and a letter and returns the first index of letter in word. If the letter is not in the word, your function should return −1 . For example, find( 'football', 'l') returns 6 and find('football', '2') returns −1 ."
   ]
  },
  {
   "cell_type": "code",
   "execution_count": 6,
   "id": "7b6a21a2",
   "metadata": {},
   "outputs": [
    {
     "name": "stdout",
     "output_type": "stream",
     "text": [
      "Please enter a word : football\n",
      "Please enter a letter : l\n"
     ]
    },
    {
     "data": {
      "text/plain": [
       "6"
      ]
     },
     "execution_count": 6,
     "metadata": {},
     "output_type": "execute_result"
    }
   ],
   "source": [
    "ch1=str(input(\"Please enter a word : \"))\n",
    "ch2=str(input(\"Please enter a letter : \"))\n",
    "def find(ch1, ch2):\n",
    "    for i in range(0, len(ch1)):\n",
    "        if (ch1[i]==ch2):\n",
    "            return i\n",
    "    return -1\n",
    "find(ch1,ch2)      "
   ]
  },
  {
   "cell_type": "markdown",
   "id": "aca1dcd2",
   "metadata": {},
   "source": [
    "2. Modify the function find described above so that it takes a third parameter, which is the index in word where it should start searching from"
   ]
  },
  {
   "cell_type": "code",
   "execution_count": 10,
   "id": "9cfdbb1f",
   "metadata": {},
   "outputs": [
    {
     "name": "stdout",
     "output_type": "stream",
     "text": [
      "Please enter a word : mamadou\n",
      "Please enter a letter : m\n",
      "Please enter the index in word where it should start searching from : 5\n"
     ]
    },
    {
     "data": {
      "text/plain": [
       "-1"
      ]
     },
     "execution_count": 10,
     "metadata": {},
     "output_type": "execute_result"
    }
   ],
   "source": [
    "ch1=str(input(\"Please enter a word : \"))\n",
    "ch2=str(input(\"Please enter a letter : \"))\n",
    "k=int(input(\"Please enter the index in word where it should start searching from : \"))\n",
    "def find(ch1, ch2, k):\n",
    "    for i in range(k, len(ch1)):\n",
    "        if (ch1[i]==ch2):\n",
    "            return i\n",
    "    return -1\n",
    "find(ch1,ch2,k)"
   ]
  },
  {
   "cell_type": "markdown",
   "id": "7e077abb",
   "metadata": {},
   "source": [
    "### 3 Help documentation of string methods"
   ]
  },
  {
   "cell_type": "markdown",
   "id": "dc439137",
   "metadata": {},
   "source": [
    "1. Read the documentation of the string methods at http://docs.python.org/2/library/stdtypes.html#string-methods. You might want to experiment with them to make sure you understand how they work. strip, replace, join, split, find, count, rfind, rindex are particularly useful."
   ]
  },
  {
   "cell_type": "code",
   "execution_count": null,
   "id": "6065791b",
   "metadata": {},
   "outputs": [],
   "source": []
  }
 ],
 "metadata": {
  "kernelspec": {
   "display_name": "Python 3 (ipykernel)",
   "language": "python",
   "name": "python3"
  },
  "language_info": {
   "codemirror_mode": {
    "name": "ipython",
    "version": 3
   },
   "file_extension": ".py",
   "mimetype": "text/x-python",
   "name": "python",
   "nbconvert_exporter": "python",
   "pygments_lexer": "ipython3",
   "version": "3.9.5"
  }
 },
 "nbformat": 4,
 "nbformat_minor": 5
}
